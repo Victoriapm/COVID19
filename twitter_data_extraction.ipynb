{
 "cells": [
  {
   "cell_type": "markdown",
   "metadata": {
    "colab_type": "text",
    "id": "7KH3AiAns0od"
   },
   "source": []
  },
  {
   "cell_type": "code",
   "execution_count": 8,
   "metadata": {
    "scrolled": true
   },
   "outputs": [
    {
     "name": "stdout",
     "output_type": "stream",
     "text": [
      "Collecting gspread\n",
      "  Downloading gspread-3.6.0-py3-none-any.whl (26 kB)\n",
      "Collecting oauth2client\n",
      "  Downloading oauth2client-4.1.3-py2.py3-none-any.whl (98 kB)\n",
      "Collecting df2gspread\n",
      "  Downloading df2gspread-1.0.4.tar.gz (11 kB)\n",
      "Requirement already satisfied: requests>=2.2.1 in c:\\users\\v.perez\\anaconda3\\lib\\site-packages (from gspread) (2.22.0)\n",
      "Collecting google-auth-oauthlib>=0.4.1\n",
      "  Downloading google_auth_oauthlib-0.4.1-py2.py3-none-any.whl (18 kB)\n",
      "Collecting google-auth>=1.12.0\n",
      "  Downloading google_auth-1.15.0-py2.py3-none-any.whl (89 kB)\n",
      "Collecting pyasn1>=0.1.7\n",
      "  Downloading pyasn1-0.4.8-py2.py3-none-any.whl (77 kB)\n",
      "Collecting pyasn1-modules>=0.0.5\n",
      "  Downloading pyasn1_modules-0.2.8-py2.py3-none-any.whl (155 kB)\n",
      "Collecting httplib2>=0.9.1\n",
      "  Downloading httplib2-0.18.1-py3-none-any.whl (95 kB)\n",
      "Requirement already satisfied: six>=1.6.1 in c:\\users\\v.perez\\anaconda3\\lib\\site-packages (from oauth2client) (1.14.0)\n",
      "Collecting rsa>=3.1.4\n",
      "  Downloading rsa-4.0-py2.py3-none-any.whl (38 kB)\n",
      "Collecting argparse>=1.3.0\n",
      "  Downloading argparse-1.4.0-py2.py3-none-any.whl (23 kB)\n",
      "Collecting google-api-python-client==1.6.7\n",
      "  Downloading google_api_python_client-1.6.7-py2.py3-none-any.whl (56 kB)\n",
      "Requirement already satisfied: pandas in c:\\users\\v.perez\\anaconda3\\lib\\site-packages (from df2gspread) (1.0.1)\n",
      "Requirement already satisfied: idna<2.9,>=2.5 in c:\\users\\v.perez\\anaconda3\\lib\\site-packages (from requests>=2.2.1->gspread) (2.8)\n",
      "Requirement already satisfied: urllib3!=1.25.0,!=1.25.1,<1.26,>=1.21.1 in c:\\users\\v.perez\\anaconda3\\lib\\site-packages (from requests>=2.2.1->gspread) (1.25.8)\n",
      "Requirement already satisfied: chardet<3.1.0,>=3.0.2 in c:\\users\\v.perez\\anaconda3\\lib\\site-packages (from requests>=2.2.1->gspread) (3.0.4)\n",
      "Requirement already satisfied: certifi>=2017.4.17 in c:\\users\\v.perez\\anaconda3\\lib\\site-packages (from requests>=2.2.1->gspread) (2019.11.28)\n",
      "Requirement already satisfied: requests-oauthlib>=0.7.0 in c:\\users\\v.perez\\anaconda3\\lib\\site-packages (from google-auth-oauthlib>=0.4.1->gspread) (1.2.0)\n",
      "Requirement already satisfied: setuptools>=40.3.0 in c:\\users\\v.perez\\anaconda3\\lib\\site-packages (from google-auth>=1.12.0->gspread) (45.2.0.post20200210)\n",
      "Collecting cachetools<5.0,>=2.0.0\n",
      "  Downloading cachetools-4.1.0-py3-none-any.whl (10 kB)\n",
      "Collecting uritemplate<4dev,>=3.0.0\n",
      "  Downloading uritemplate-3.0.1-py2.py3-none-any.whl (15 kB)\n",
      "Requirement already satisfied: pytz>=2017.2 in c:\\users\\v.perez\\anaconda3\\lib\\site-packages (from pandas->df2gspread) (2019.3)\n",
      "Requirement already satisfied: python-dateutil>=2.6.1 in c:\\users\\v.perez\\anaconda3\\lib\\site-packages (from pandas->df2gspread) (2.8.1)\n",
      "Requirement already satisfied: numpy>=1.13.3 in c:\\users\\v.perez\\anaconda3\\lib\\site-packages (from pandas->df2gspread) (1.18.1)\n",
      "Requirement already satisfied: oauthlib>=3.0.0 in c:\\users\\v.perez\\anaconda3\\lib\\site-packages (from requests-oauthlib>=0.7.0->google-auth-oauthlib>=0.4.1->gspread) (3.0.1)\n",
      "Building wheels for collected packages: df2gspread\n",
      "  Building wheel for df2gspread (setup.py): started\n",
      "  Building wheel for df2gspread (setup.py): finished with status 'done'\n",
      "  Created wheel for df2gspread: filename=df2gspread-1.0.4-py3-none-any.whl size=11958 sha256=591c45cbd42ae547c7be0940e418553e77ed3b7e5da27be5aafd3846e6338684\n",
      "  Stored in directory: c:\\users\\v.perez\\appdata\\local\\pip\\cache\\wheels\\4d\\78\\20\\cf9a2810f93885ad71bd351c8b604455ba160ac4b0e9b7d526\n",
      "Successfully built df2gspread\n",
      "Installing collected packages: pyasn1, pyasn1-modules, rsa, cachetools, google-auth, google-auth-oauthlib, gspread, httplib2, oauth2client, argparse, uritemplate, google-api-python-client, df2gspread\n",
      "Successfully installed argparse-1.4.0 cachetools-4.1.0 df2gspread-1.0.4 google-api-python-client-1.6.7 google-auth-1.15.0 google-auth-oauthlib-0.4.1 gspread-3.6.0 httplib2-0.18.1 oauth2client-4.1.3 pyasn1-0.4.8 pyasn1-modules-0.2.8 rsa-4.0 uritemplate-3.0.1\n"
     ]
    }
   ],
   "source": [
    "# Install required packages to connect to google sheets\n",
    "!pip install gspread oauth2client df2gspread"
   ]
  },
  {
   "cell_type": "code",
   "execution_count": 31,
   "metadata": {},
   "outputs": [],
   "source": [
    "#Load gsheets libraries\n",
    "import gspread \n",
    "from df2gspread import df2gspread as d2g\n",
    "from oauth2client.service_account import ServiceAccountCredentials\n",
    "\n",
    "scope = [\n",
    "   'https://spreadsheets.google.com/feeds',\n",
    "         'https://www.googleapis.com/auth/drive']\n",
    "\n",
    "#authenticate gsheets\n",
    "google_key_file = 'service_key.json'\n",
    "credentials = ServiceAccountCredentials.from_json_keyfile_name(google_key_file, scope)\n",
    "gc = gspread.authorize(credentials)"
   ]
  },
  {
   "cell_type": "code",
   "execution_count": 39,
   "metadata": {},
   "outputs": [],
   "source": [
    "spreadsheet_key = '1auoQ9XanosnM7RUInzqeZi9EIgwtCtmtubNpXrfF6OM' \n",
    "wks_name = 'twitter_data'\n",
    "\n",
    "\n",
    "book = gc.open_by_key(spreadsheet_key) \n",
    "worksheet = book.worksheet(wks_name) "
   ]
  },
  {
   "cell_type": "code",
   "execution_count": 40,
   "metadata": {},
   "outputs": [
    {
     "data": {
      "text/plain": [
       "[]"
      ]
     },
     "execution_count": 40,
     "metadata": {},
     "output_type": "execute_result"
    }
   ],
   "source": [
    "# get and shows all values from spreadsheet\n",
    "table = worksheet.get_all_values()\n",
    "table"
   ]
  },
  {
   "cell_type": "code",
   "execution_count": 50,
   "metadata": {},
   "outputs": [],
   "source": [
    "# get data to test writing into file \n",
    "import seaborn as sns\n",
    "tips = sns.load_dataset('tips')"
   ]
  },
  {
   "cell_type": "code",
   "execution_count": 52,
   "metadata": {},
   "outputs": [
    {
     "data": {
      "text/html": [
       "<div>\n",
       "<style scoped>\n",
       "    .dataframe tbody tr th:only-of-type {\n",
       "        vertical-align: middle;\n",
       "    }\n",
       "\n",
       "    .dataframe tbody tr th {\n",
       "        vertical-align: top;\n",
       "    }\n",
       "\n",
       "    .dataframe thead th {\n",
       "        text-align: right;\n",
       "    }\n",
       "</style>\n",
       "<table border=\"1\" class=\"dataframe\">\n",
       "  <thead>\n",
       "    <tr style=\"text-align: right;\">\n",
       "      <th></th>\n",
       "      <th>total_bill</th>\n",
       "      <th>tip</th>\n",
       "      <th>sex</th>\n",
       "      <th>smoker</th>\n",
       "      <th>day</th>\n",
       "      <th>time</th>\n",
       "      <th>size</th>\n",
       "    </tr>\n",
       "  </thead>\n",
       "  <tbody>\n",
       "    <tr>\n",
       "      <th>0</th>\n",
       "      <td>16.99</td>\n",
       "      <td>1.01</td>\n",
       "      <td>Female</td>\n",
       "      <td>No</td>\n",
       "      <td>Sun</td>\n",
       "      <td>Dinner</td>\n",
       "      <td>2</td>\n",
       "    </tr>\n",
       "    <tr>\n",
       "      <th>1</th>\n",
       "      <td>10.34</td>\n",
       "      <td>1.66</td>\n",
       "      <td>Male</td>\n",
       "      <td>No</td>\n",
       "      <td>Sun</td>\n",
       "      <td>Dinner</td>\n",
       "      <td>3</td>\n",
       "    </tr>\n",
       "    <tr>\n",
       "      <th>2</th>\n",
       "      <td>21.01</td>\n",
       "      <td>3.50</td>\n",
       "      <td>Male</td>\n",
       "      <td>No</td>\n",
       "      <td>Sun</td>\n",
       "      <td>Dinner</td>\n",
       "      <td>3</td>\n",
       "    </tr>\n",
       "    <tr>\n",
       "      <th>3</th>\n",
       "      <td>23.68</td>\n",
       "      <td>3.31</td>\n",
       "      <td>Male</td>\n",
       "      <td>No</td>\n",
       "      <td>Sun</td>\n",
       "      <td>Dinner</td>\n",
       "      <td>2</td>\n",
       "    </tr>\n",
       "    <tr>\n",
       "      <th>4</th>\n",
       "      <td>24.59</td>\n",
       "      <td>3.61</td>\n",
       "      <td>Female</td>\n",
       "      <td>No</td>\n",
       "      <td>Sun</td>\n",
       "      <td>Dinner</td>\n",
       "      <td>4</td>\n",
       "    </tr>\n",
       "  </tbody>\n",
       "</table>\n",
       "</div>"
      ],
      "text/plain": [
       "   total_bill   tip     sex smoker  day    time  size\n",
       "0       16.99  1.01  Female     No  Sun  Dinner     2\n",
       "1       10.34  1.66    Male     No  Sun  Dinner     3\n",
       "2       21.01  3.50    Male     No  Sun  Dinner     3\n",
       "3       23.68  3.31    Male     No  Sun  Dinner     2\n",
       "4       24.59  3.61  Female     No  Sun  Dinner     4"
      ]
     },
     "execution_count": 52,
     "metadata": {},
     "output_type": "execute_result"
    }
   ],
   "source": [
    "tips.head()"
   ]
  },
  {
   "cell_type": "code",
   "execution_count": 53,
   "metadata": {},
   "outputs": [
    {
     "data": {
      "text/plain": [
       "<Worksheet 'twitter_data' id:1401220933>"
      ]
     },
     "execution_count": 53,
     "metadata": {},
     "output_type": "execute_result"
    }
   ],
   "source": [
    "#Write in the gsheets\n",
    "d2g.upload(tips, spreadsheet_key, wks_name, credentials=credentials, row_names=False)"
   ]
  },
  {
   "cell_type": "code",
   "execution_count": 25,
   "metadata": {},
   "outputs": [],
   "source": [
    "# Load twitter credentials\n",
    "with open(\"covid19-sentanalysis-twitter_credentials.json\") as datafile:\n",
    "  data = json.load(datafile)"
   ]
  },
  {
   "cell_type": "code",
   "execution_count": 26,
   "metadata": {
    "colab": {
     "base_uri": "https://localhost:8080/",
     "height": 175
    },
    "colab_type": "code",
    "id": "jqdQzdqytO88",
    "outputId": "b46f1541-50e8-4fe4-a091-00175482cd65"
   },
   "outputs": [
    {
     "name": "stdout",
     "output_type": "stream",
     "text": [
      "Authentication OK\n",
      "printing tweets from timeline \n",
      " \n",
      "Want a phone with a great camera? Here’s what to look for https://t.co/Vo3fHBFTGm\n",
      "\n",
      "Curiosamente, esos que dividen entre buenos y malos suelen ser los peores.\n",
      "\n",
      "Desde el Concejo buscan acompañar el pedido para exceptuar a surfistas profesionales\n",
      "https://t.co/No4hDP8nJL\n",
      "\n",
      "If you're on PC, the Logitech G Pro X is one the best wired gaming headsets around. If you're on console, not so mu… https://t.co/8Fk1LjOssQ\n",
      "\n",
      "RT @los_fatales: \"puede venirse el mundo abajo\" Flopa ♥️ https://t.co/I5jPIeyjXx\n",
      "\n"
     ]
    }
   ],
   "source": [
    "import tweepy\n",
    "from textblob import TextBlob\n",
    "\n",
    "\n",
    "# Step 1 - Authenticate twitter\n",
    "consumer_key= data['consumer_key'] #'API_CONSUMER_KEY_HERE'\n",
    "consumer_secret=  data['consumer_secret']#'CONSUMER_SECRET_HERE'\n",
    "\n",
    "access_token= data['access_token_key'] #'ACCESS_TOKEN_HERE'\n",
    "access_token_secret= data['access_token_secret'] #'ACCESS_TOKEN_SECRET_HERE'\n",
    "\n",
    "\n",
    "\n",
    "auth = tweepy.OAuthHandler(consumer_key, consumer_secret)\n",
    "auth.set_access_token(access_token, access_token_secret)\n",
    "\n",
    "api = tweepy.API(auth)\n",
    "\n",
    "\n",
    "try:\n",
    "    api.verify_credentials()\n",
    "    print(\"Authentication OK\")\n",
    "except:\n",
    "    print(\"Error during authentication\")\n",
    "\n",
    "#Print 5 tweets for testing purposes - Should be deleted afterwards\n",
    "home_tweets = api.home_timeline(count=5)\n",
    "print(\"printing tweets from timeline \\n \")\n",
    "for tweet in home_tweets:\n",
    "    print(tweet.text)\n",
    "    print(\"\")"
   ]
  },
  {
   "cell_type": "markdown",
   "metadata": {
    "colab_type": "text",
    "id": "DlNcN1cx0uOD"
   },
   "source": [
    "**GET Twitter Stream and Do Sentiment Analysis in Real time**\n"
   ]
  },
  {
   "cell_type": "code",
   "execution_count": 27,
   "metadata": {
    "colab": {
     "base_uri": "https://localhost:8080/",
     "height": 70
    },
    "colab_type": "code",
    "id": "nqtpekCPtPDt",
    "outputId": "cbbfcd75-f21b-4bec-d630-5c588f420d09"
   },
   "outputs": [
    {
     "name": "stderr",
     "output_type": "stream",
     "text": [
      "[nltk_data] Downloading package punkt to\n",
      "[nltk_data]     C:\\Users\\v.perez\\AppData\\Roaming\\nltk_data...\n",
      "[nltk_data]   Package punkt is already up-to-date!\n"
     ]
    },
    {
     "data": {
      "text/plain": [
       "True"
      ]
     },
     "execution_count": 27,
     "metadata": {},
     "output_type": "execute_result"
    }
   ],
   "source": [
    "from tweepy import Stream\n",
    "from tweepy import StreamListener\n",
    "#from google.colab import files\n",
    "import pandas as pd\n",
    "import json\n",
    "import re\n",
    "import csv\n",
    "import nltk\n",
    "nltk.download('punkt')"
   ]
  },
  {
   "cell_type": "code",
   "execution_count": 28,
   "metadata": {
    "colab": {},
    "colab_type": "code",
    "id": "huknvBk9Y8bj"
   },
   "outputs": [],
   "source": [
    "trump = 0\n",
    "warren = 0\n",
    "\n",
    "header_name = ['Trump', 'Warren','Text','id', 'created_at', 'user_id','coordinates','location']\n",
    "with open('sentiments.csv', 'w') as file:\n",
    "  writer = csv.DictWriter(file, fieldnames = header_name)\n",
    "  writer.writeheader()\n",
    "\n",
    "# sentiments_df = pd.DataFrame(columns=['Trump','Warren'])\n",
    "#api = tweepy.API(auth, wait_on_rate_limit = True, wait_on_rate_limit_notify = True)\n",
    "\n",
    "class Listener(StreamListener):\n",
    "  def __init__(self):\n",
    "    super().__init__()\n",
    "    self.max_tweets = 10\n",
    "    self.tweet_count = 0\n",
    "    \n",
    "  def on_data(self, data):\n",
    "    raw_twitts = json.loads(data)\n",
    "    try:\n",
    "      #  Fields we need: id, created_at, text, coordinates, author_id\n",
    "      full_tweets = raw_twitts.copy()\n",
    "   \n",
    "      # TO DO: we must drop from full_tweets the tweets that consist only on RT, numbers, etc (see regex used below)\n",
    "      \n",
    "            \n",
    "      tweets = raw_twitts['text']\n",
    "      tweets = ' '.join(re.sub(\"(@[A-Za-z0-9]+) | ({*0-9A-Za-z \\t]) |] (\\wt:\\/\\/\\St+)\", \" \", tweets).split())\n",
    "      tweets = ' '.join(re.sub('RT',' ', tweets).split())  \n",
    "        \n",
    "      #tweets = raw_twitts['text']\n",
    "      #tweets = ' '.join(re.sub(\"(@[A-Za-z0-9]+) | ({*0-9A-Za-z \\t]) |] (\\wt:\\/\\/\\St+)\", \" \", tweets).split())\n",
    "      #tweets = ' '.join(re.sub('RT',' ', tweets).split())\n",
    "      blob = TextBlob(tweets.strip())\n",
    "      global trump\n",
    "      global warren\n",
    "\n",
    "      trump_sentiment = 0\n",
    "      warren_sentiment = 0\n",
    "\n",
    "      for sent in blob.sentences:\n",
    "        if \"Trump\" in sent and \"Warren\" not in sent:\n",
    "          trump_sentiment = trump_sentiment + sent.sentiment.polarity\n",
    "        else:\n",
    "          warren_sentiment = warren_sentiment + sent.sentiment.polarity\n",
    "\n",
    "      trump = trump + trump_sentiment\n",
    "      warren = warren + warren_sentiment\n",
    "        \n",
    "        \n",
    "    \n",
    "    #  with open('sentiments.csv', 'a') as file:\n",
    "     #   writer = csv.DictWriter(file, fieldnames=header_name)\n",
    "        info = {'Trump': trump,'Warren': warren, 'Text':raw_twitts['text']\n",
    "               ,'id':raw_twitts['id'], 'created_at':raw_twitts['created_at']\n",
    "               , 'user_id':raw_twitts['user']['id'], 'coordinates':raw_twitts['coordinates']\n",
    "                , 'location':raw_twitts['user']['location']\n",
    "               }\n",
    "        writer.writerow(info)\n",
    "\n",
    "      # sentiments_df['Trump'].append(trump)\n",
    "      # sentiments_df['Warren'].append(warren)\n",
    "      # sentiments_df.to_csv('sentiments.csv') \n",
    "      print (tweets,'\\n')    \n",
    "    except:\n",
    "      print('ERROR got')\n",
    "    else:\n",
    "      self.tweet_count+=1\n",
    "      if(self.tweet_count==self.max_tweets):\n",
    "        ## HERE: WRITE INTO FILE \n",
    "        #Write in the gsheets\n",
    "        d2g.upload(tips, spreadsheet_key, wks_name, credentials=credentials, row_names=False)\n",
    "        print(\"completed\")\n",
    "        return(False)\n",
    "      else:\n",
    "       decoded = json.loads(data)\n",
    "\n",
    "  def on_error(self, status):\n",
    "    print(status)"
   ]
  },
  {
   "cell_type": "code",
   "execution_count": null,
   "metadata": {},
   "outputs": [],
   "source": []
  },
  {
   "cell_type": "code",
   "execution_count": 29,
   "metadata": {
    "colab": {},
    "colab_type": "code",
    "id": "u-MAEzOxY9k9"
   },
   "outputs": [],
   "source": [
    "auth = tweepy.OAuthHandler(consumer_key, consumer_secret)\n",
    "auth.set_access_token(access_token, access_token_secret)"
   ]
  },
  {
   "cell_type": "code",
   "execution_count": 6,
   "metadata": {
    "colab": {
     "base_uri": "https://localhost:8080/",
     "height": 1000
    },
    "colab_type": "code",
    "id": "jE5iBNqMY-D5",
    "outputId": "192cc8f0-3c22-4cd0-e3c2-ea65a512c153"
   },
   "outputs": [
    {
     "name": "stdout",
     "output_type": "stream",
     "text": [
      "@DetroitSteel_: Do you think Trump ever set foot in a church before he was elected? \n",
      "\n",
      "Biden is not a good candidate but he is not the devil. The faustian bargain was made i… https://t.co/dpnkRkL14K \n",
      "\n",
      "@dandrezner: This is your occasional reminder that decent politicians apologize when they cross a line in their discourse. https://t.co/… \n",
      "\n",
      "ERROR got\n",
      "@RepMcGovern: If Beijing violates its int’l commitments &amp; imposes its draconian security law on #HongKong then it is time for the Trump… \n",
      "\n",
      "@edstetzer: New: \"Pres. Trump, Governors, &amp; Churches: We Don't Need an Immediate Opening, But We Do Need Communication &amp; Collaboration.\"… \n",
      "\n",
      "@africatechie: Funny how when the drug was being administered to millions of Africans as a malaria drug, these risks didn't seem to both… \n",
      "\n",
      "Trump admin considered 1st NUCLEAR TEST since 1992 as show of strength to Russia &amp; China – reports https://t.co/CObmAQrJfo \n",
      "\n",
      "@iamwandasykes: Biden feels at home speaking to the Black community. He made a joke. Comedy ain’t easy, but he didn’t say 2 go shoot C… \n",
      "\n",
      "@pac_liberty @secretnstrange9… https://t.co/LQCC6chtTn \n",
      "\n",
      "Wait! What? White cops tazering white women? This is not Trump's Murica! \n",
      "\n",
      "@DailyCaller: ‘You Don’t Determine Who We Vote For’: Football Legend Herschel Walker Blasts Joe Biden Following ‘Ain’t Black’ Comment ht… \n",
      "\n",
      "Trump donates salary to HHS to develop treatments for coronavirus - Washington Times https://t.co/QaT3Bt9Ex9 #SmartNews \n",
      "\n",
      "The majority will not see the trouble with Trump's comment unless it's explained in depth, a… https://t.co/c7wYaAwvpn \n",
      "\n",
      "@TrinityResists: I’m sure &amp; will be thrilled Trump is using their music without consent, like he’s done… \n",
      "\n",
      "@neal_katyal: omg. we are definitely positively toward the negative. \n",
      "\n",
      "@edouardhusson: Les vrais racistes ne sont pas ceux qu'on croit. https://t.co/1nEcQTqBPy \n",
      "\n",
      "@funder: BREAKING: Trump calls houses of worship “essential,” because he apparently wants to spread the coronavirus even more than he al… \n",
      "\n",
      "@BarbMcQuade: I look forward to one day returning to church, where we shake hands to share peace, hold hands to pray, and drink wine fro… \n",
      "\n",
      "Whore of lies acts like Trump, she wanna bring death to those who believeth blindly in God. Recognise her… https://t.co/dBKZCM7VJc \n",
      "\n",
      "https://t.co/o4hM9O0pIm \n",
      "\n",
      "@GrytpypeOBE: Trump works for Russia \n",
      "\n",
      "@b_riexinger: #Trump kündigt mit dem #OpenSkies-Vertrag den nächsten Abrüstungsvertrag und die #NATO und die #Bundesregierung wollen ihn… \n",
      "\n",
      "@itsJeffTiedrich: I have to confess that I did not have 'infect yourself for Jesus' on my Donald Trump Batshittery Bingo card \n",
      "\n",
      "@kylegriffin1: Kayleigh McEnany announced today that Trump was donating part of his presidential salary to HHS. She displayed one of his… \n",
      "\n",
      "https://t.co/bIC41FdhiG \n",
      "\n",
      "@soledadobrien: Not even a lawyer and I know this is bullshit. \n",
      "\n",
      "@IPM_HQ: i considered making their victim a human being in this hypothetical but i went with a dog so liberals might care https://t.co/K… \n",
      "\n",
      "@nowthisnews: Trump fired the team that could have helped stop the coronavirus crisis https://t.co/dvympy8j29 \n",
      "\n",
      "@WasARepublican2: Trump doesn’t want “to get in to it” when asked what his favorite bible verse was. Because, you know...”it’s very pers… \n",
      "\n",
      "ERROR got\n",
      "@iamwandasykes: Biden feels at home speaking to the Black community. He made a joke. Comedy ain’t easy, but he didn’t say 2 go shoot C… \n",
      "\n",
      "ERROR got\n",
      "@JoeSudbay: \"Trump recently asked prominent allies to tweet negative things about Graham, and he has been complaining that Graham is a h… \n",
      "\n",
      "ERROR got\n",
      "i hate it here so hard \n",
      "\n",
      "U.K. government is adopting an alarming number of #Trump tactics... \n",
      "\n",
      "@ndrewkellyborel: If you support Trump, you love America! \n",
      "\n",
      "@charliekirk11: BREAKING: President Trump has deemed 'Places of Worship' as ESSENTIAL! This is huge. if you're THANKFUL to have a… \n",
      "\n",
      "@markoftheD: Hydroxychloroquine: Trump’s Covid-19 ‘cure’ increases deaths, global study finds https://t.co/7gY27UqLIJ \n",
      "\n",
      "She should be indicted or pled out b4 November. Disgorge her gains along the way... \n",
      "\n",
      "trump is the virus he don't want to wear a mask and everything comes out his mout… https://t.co/3Ptih0Yhyk \n",
      "\n",
      "@fred_guttenberg: OMG — this new ad is DEVASTATING to Trump. I agree, he is like a deer caught in the headlights. Please wat… \n",
      "\n",
      "@djrothkopf: Beating Trump in November is not the goal. It is not even the minimum acceptable outcome. The GOP is the problem. The GO… \n",
      "\n",
      "ERROR got\n",
      "@ScherieMurray: I am Black and I will be voting for President in November @JoeBiden. #YouAintBlack and your record for… \n",
      "\n",
      "@BrunoAmato_1: If you add up every time Joe Biden has mispoken in his entire life, it adds up to one Trump press conference. \n",
      "\n",
      "@AntonioUriz: A DIFERENCIA de ESPAÑA, esto es lo que hace un BUEN GOBERNANTE que AMA a su PAÍS. D. DONALD JOHN TRUMP, ha ORDENADO que l… \n",
      "\n",
      "@_1216715: Hot off the presses...devastating new Trump ad! #YouAintBlack https://t.co/4CYUH3hPvL \n",
      "\n",
      "Ronald J Trump https://t.co/pltwiq7pi5 \n",
      "\n",
      "@dcexaminer: . is offering black voters a choice: serve as toy soldiers or become traitors, writes @KayleeDMcGhee. \"Biden sugg… \n",
      "\n",
      "@LindseyGrahamSC: The comments from were truly offensive, but a rare and honest insight into liberals thinking. Liberals bel… \n",
      "\n",
      "@howardfineman: This is a #GOP governor literally crying at what #Trump and his mob have done to turn #COVID masks into a political stat… \n",
      "\n",
      "@TW1N_6RZ: I just got a stupid tiny little Bible in the mail today along with bullshit bills and other garbage from Third Party assholes… \n",
      "\n",
      "nor do I. but I have no reason to care. my only beef is with the people who gi… https://t.co/EfmsqKAHk8 \n",
      "\n",
      "completed\n"
     ]
    }
   ],
   "source": [
    "twitter_stream = Stream(auth, Listener())\n",
    "twitter_stream.filter(track = ['Trump','Warren'])"
   ]
  },
  {
   "cell_type": "code",
   "execution_count": null,
   "metadata": {
    "colab": {},
    "colab_type": "code",
    "id": "7HTHQoydfkCz"
   },
   "outputs": [],
   "source": []
  }
 ],
 "metadata": {
  "colab": {
   "collapsed_sections": [],
   "name": "twitter_data_extraction.ipynb",
   "provenance": []
  },
  "kernelspec": {
   "display_name": "Python 3",
   "language": "python",
   "name": "python3"
  },
  "language_info": {
   "codemirror_mode": {
    "name": "ipython",
    "version": 3
   },
   "file_extension": ".py",
   "mimetype": "text/x-python",
   "name": "python",
   "nbconvert_exporter": "python",
   "pygments_lexer": "ipython3",
   "version": "3.7.6"
  }
 },
 "nbformat": 4,
 "nbformat_minor": 1
}
